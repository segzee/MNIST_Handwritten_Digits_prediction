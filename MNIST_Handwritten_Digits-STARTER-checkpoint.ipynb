{
 "cells": [
  {
   "cell_type": "markdown",
   "metadata": {},
   "source": [
    "# Introduction\n",
    "\n",
    "In this project, you will build a neural network of your own design to evaluate the MNIST dataset.\n",
    "\n",
    "Some of the benchmark results on MNIST include can be found [on Yann LeCun's page](http://yann.lecun.com/exdb/mnist/) and include:\n",
    "\n",
    "88% [Lecun et al., 1998](http://yann.lecun.com/exdb/publis/pdf/lecun-98.pdf)\n",
    "95.3% [Lecun et al., 1998](http://yann.lecun.com/exdb/publis/pdf/lecun-98.pdf)\n",
    "99.65% [Ciresan et al., 2011](http://people.idsia.ch/~juergen/ijcai2011.pdf)\n",
    "\n",
    "MNIST is a great dataset for sanity checking your models, since the accuracy levels achieved by large convolutional neural networks and small linear models are both quite high. This makes it important to be familiar with the data.\n",
    "\n",
    "## Imports"
   ]
  },
  {
   "cell_type": "code",
   "execution_count": 1,
   "metadata": {},
   "outputs": [],
   "source": [
    "## This cell contains the essential imports you will need – DO NOT CHANGE THE CONTENTS! ##\n",
    "import torch\n",
    "import torch.nn as nn\n",
    "import torch.nn.functional as F\n",
    "import torch.optim as optim\n",
    "import torchvision\n",
    "import matplotlib.pyplot as plt\n",
    "import numpy as np\n",
    "import torch.utils.data\n",
    "import torchvision.transforms as transforms\n",
    "import torchvision.transforms as T\n",
    "#import helper\n",
    "%matplotlib inline\n",
    "%config InlineBackend.figure_format = 'retina'"
   ]
  },
  {
   "cell_type": "code",
   "execution_count": 2,
   "metadata": {},
   "outputs": [],
   "source": [
    "transforms = T.Compose(\n",
    "    \n",
    "    [   # This transforms takes a np.array or a PIL image of integers\n",
    "        T.ToTensor(),\n",
    "        T.Normalize((0.5), (0.5))\n",
    "    ]\n",
    ")"
   ]
  },
  {
   "cell_type": "markdown",
   "metadata": {},
   "source": [
    "## Load the Dataset\n",
    "\n",
    "Specify your transforms as a list if you intend to .\n",
    "The transforms module is already loaded as `transforms`.\n",
    "\n",
    "MNIST is fortunately included in the torchvision module.\n",
    "Then, you can create your dataset using the `MNIST` object from `torchvision.datasets` ([the documentation is available here](https://pytorch.org/vision/stable/datasets.html#mnist)).\n",
    "Make sure to specify `download=True`! \n",
    "\n",
    "Once your dataset is created, you'll also need to define a `DataLoader` from the `torch.utils.data` module for both the train and the test set."
   ]
  },
  {
   "cell_type": "code",
   "execution_count": 3,
   "metadata": {},
   "outputs": [
    {
     "name": "stderr",
     "output_type": "stream",
     "text": [
      "/opt/conda/lib/python3.7/site-packages/torchvision/datasets/mnist.py:498: UserWarning: The given NumPy array is not writable, and PyTorch does not support non-writable tensors. This means writing to this tensor will result in undefined behavior. You may want to copy the array to protect its data or make it writable before converting it to a tensor. This type of warning will be suppressed for the rest of this program. (Triggered internally at  ../torch/csrc/utils/tensor_numpy.cpp:178.)\n",
      "  return torch.from_numpy(parsed.astype(m[2], copy=False)).view(*s)\n"
     ]
    }
   ],
   "source": [
    "# Create training and test sets, and define training dataloader\n",
    "train_set = torchvision.datasets.MNIST('DATA_MNIST/', download=True, train=True, transform=transforms)\n",
    "test_set = torchvision.datasets.MNIST('DATA_MNIST/', download=True, train=False, transform=transforms)\n",
    "\n",
    "# Split the training data into training and validation sets\n",
    "train_size = int(0.8 * len(train_set))\n",
    "valid_size = len(train_set) - train_size\n",
    "train_data, valid_data = torch.utils.data.random_split(train_set, [train_size, valid_size])\n",
    "\n",
    "# Create dataloaders for training, validation, and test sets\n",
    "trainloader = torch.utils.data.DataLoader(train_data, batch_size=64, shuffle=True)\n",
    "validloader = torch.utils.data.DataLoader(valid_data, batch_size=64, shuffle=False)\n",
    "testloader = torch.utils.data.DataLoader(test_set, batch_size=64, shuffle=True)"
   ]
  },
  {
   "cell_type": "markdown",
   "metadata": {},
   "source": [
    "## Justify your preprocessing\n",
    "\n",
    "I chose the transforms in the preprocessing steps for the following reasons:\n",
    "\n",
    "ToTensor Transformation: I used the ToTensor transformation to convert the image data into PyTorch tensors. Neural networks require input data in the form of tensors, as they are better suited for mathematical operations and computations. Converting the images to tensors enables seamless integration with the PyTorch framework and allows the network to process the data efficiently.\n",
    "\n",
    "Normalize Transformation: I applied the Normalize transformation to center the pixel values around zero and scale them. Normalization is a common practice in deep learning to standardize the input data and ensure that the model trains more effectively. By subtracting the mean (0.5) from each pixel value and dividing by the standard deviation (0.5), I adjusted the data to have a mean of zero and a standard deviation of one. This helps the model converge faster during training and makes it less sensitive to variations in pixel intensity due to lighting conditions.\n",
    "\n",
    "I chose these preprocessing steps to improve the training process and performance of the neural network. By converting the images to tensors and normalizing them, I provided the model with data that is better suited for learning meaningful patterns and relationships within the images. These preprocessing steps enable the network to focus on learning the important features of the data and enhance its ability to generalize to new, unseen images.\n",
    "\n",
    "In summary, the chosen transformations were aimed at preparing the data in a format that facilitates efficient training, convergence, and generalization of the neural network."
   ]
  },
  {
   "cell_type": "markdown",
   "metadata": {},
   "source": [
    "**DOUBLE CLICK THIS CELL TO MODIFY**"
   ]
  },
  {
   "cell_type": "markdown",
   "metadata": {},
   "source": [
    "## Explore the Dataset\n",
    "Using matplotlib, numpy, and torch, explore the dimensions of your data.\n",
    "\n",
    "You can view images using the `show5` function defined below – it takes a data loader as an argument.\n",
    "Remember that normalized images will look really weird to you! You may want to try changing your transforms to view images.\n",
    "Typically using no transforms other than `toTensor()` works well for viewing – but not as well for training your network.\n",
    "If `show5` doesn't work, go back and check your code for creating your data loaders and your training/test sets."
   ]
  },
  {
   "cell_type": "code",
   "execution_count": 4,
   "metadata": {},
   "outputs": [],
   "source": [
    "## This cell contains a function for showing 5 images from a dataloader – DO NOT CHANGE THE CONTENTS! ##\n",
    "def show5(img_loader):\n",
    "    dataiter = iter(img_loader)\n",
    "    \n",
    "    batch = next(dataiter)\n",
    "    labels = batch[1][0:5]\n",
    "    images = batch[0][0:5]\n",
    "    for i in range(5):\n",
    "        print(int(labels[i].detach()))\n",
    "    \n",
    "        image = images[i].numpy()\n",
    "        plt.imshow(image.T.squeeze().T)\n",
    "        plt.show()"
   ]
  },
  {
   "cell_type": "code",
   "execution_count": 5,
   "metadata": {},
   "outputs": [
    {
     "name": "stdout",
     "output_type": "stream",
     "text": [
      "9\n"
     ]
    },
    {
     "data": {
      "image/png": "[encoded data removed]",
      "text/plain": [
       "<Figure size 432x288 with 1 Axes>"
      ]
     },
     "metadata": {
      "image/png": {
       "height": 248,
       "width": 251
      },
      "needs_background": "light"
     },
     "output_type": "display_data"
    },
    {
     "name": "stdout",
     "output_type": "stream",
     "text": [
      "5\n"
     ]
    },
    {
     "data": {
      "image/png": "[encoded data removed]",
      "text/plain": [
       "<Figure size 432x288 with 1 Axes>"
      ]
     },
     "metadata": {
      "image/png": {
       "height": 248,
       "width": 251
      },
      "needs_background": "light"
     },
     "output_type": "display_data"
    },
    {
     "name": "stdout",
     "output_type": "stream",
     "text": [
      "0\n"
     ]
    },
    {
     "data": {
      "image/png": "[encoded data removed]",
      "text/plain": [
       "<Figure size 432x288 with 1 Axes>"
      ]
     },
     "metadata": {
      "image/png": {
       "height": 248,
       "width": 251
      },
      "needs_background": "light"
     },
     "output_type": "display_data"
    },
    {
     "name": "stdout",
     "output_type": "stream",
     "text": [
      "7\n"
     ]
    },
    {
     "data": {
      "image/png": "[encoded data removed]",
      "text/plain": [
       "<Figure size 432x288 with 1 Axes>"
      ]
     },
     "metadata": {
      "image/png": {
       "height": 248,
       "width": 251
      },
      "needs_background": "light"
     },
     "output_type": "display_data"
    },
    {
     "name": "stdout",
     "output_type": "stream",
     "text": [
      "2\n"
     ]
    },
    {
     "data": {
      "image/png": "[encoded data removed]",
      "text/plain": [
       "<Figure size 432x288 with 1 Axes>"
      ]
     },
     "metadata": {
      "image/png": {
       "height": 248,
       "width": 251
      },
      "needs_background": "light"
     },
     "output_type": "display_data"
    }
   ],
   "source": [
    "# obtain one batch of training images\n",
    "# Show 5 images from the training loader\n",
    "show5(trainloader)"
   ]
  },
  {
   "cell_type": "code",
   "execution_count": 6,
   "metadata": {
    "scrolled": true
   },
   "outputs": [
    {
     "name": "stdout",
     "output_type": "stream",
     "text": [
      "2\n"
     ]
    },
    {
     "data": {
      "image/png": "[encoded data removed]",
      "text/plain": [
       "<Figure size 432x288 with 1 Axes>"
      ]
     },
     "metadata": {
      "image/png": {
       "height": 248,
       "width": 251
      },
      "needs_background": "light"
     },
     "output_type": "display_data"
    },
    {
     "name": "stdout",
     "output_type": "stream",
     "text": [
      "3\n"
     ]
    },
    {
     "data": {
      "image/png": "[encoded data removed]",
      "text/plain": [
       "<Figure size 432x288 with 1 Axes>"
      ]
     },
     "metadata": {
      "image/png": {
       "height": 248,
       "width": 251
      },
      "needs_background": "light"
     },
     "output_type": "display_data"
    },
    {
     "name": "stdout",
     "output_type": "stream",
     "text": [
      "5\n"
     ]
    },
    {
     "data": {
      "image/png": "[encoded data removed]",
      "text/plain": [
       "<Figure size 432x288 with 1 Axes>"
      ]
     },
     "metadata": {
      "image/png": {
       "height": 248,
       "width": 251
      },
      "needs_background": "light"
     },
     "output_type": "display_data"
    },
    {
     "name": "stdout",
     "output_type": "stream",
     "text": [
      "1\n"
     ]
    },
    {
     "data": {
      "image/png": "[encoded data removed]",
      "text/plain": [
       "<Figure size 432x288 with 1 Axes>"
      ]
     },
     "metadata": {
      "image/png": {
       "height": 248,
       "width": 251
      },
      "needs_background": "light"
     },
     "output_type": "display_data"
    },
    {
     "name": "stdout",
     "output_type": "stream",
     "text": [
      "1\n"
     ]
    },
    {
     "data": {
      "image/png": "[encoded data removed]",
      "text/plain": [
       "<Figure size 432x288 with 1 Axes>"
      ]
     },
     "metadata": {
      "image/png": {
       "height": 248,
       "width": 251
      },
      "needs_background": "light"
     },
     "output_type": "display_data"
    }
   ],
   "source": [
    "# Show 5 images from the test loader\n",
    "show5(testloader)"
   ]
  },
  {
   "cell_type": "markdown",
   "metadata": {},
   "source": [
    "## Build your Neural Network\n",
    "Using the layers in `torch.nn` (which has been imported as `nn`) and the `torch.nn.functional` module (imported as `F`), construct a neural network based on the parameters of the dataset.\n",
    "Use any architecture you like. \n",
    "\n",
    "*Note*: If you did not flatten your tensors in your transforms or as part of your preprocessing and you are using only `Linear` layers, make sure to use the `Flatten` layer in your network!"
   ]
  },
  {
   "cell_type": "code",
   "execution_count": 7,
   "metadata": {},
   "outputs": [],
   "source": [
    "class SimpleNN(nn.Module):\n",
    "    def __init__(self, input_size, a_hidden_dim, b_hidden_dim, output_size):\n",
    "        super(SimpleNN, self).__init__()\n",
    "        \n",
    "        # Define input and hidden linear layers\n",
    "        self.flatten = nn.Flatten()\n",
    "        self.fc1 = nn.Linear(input_size, a_hidden_dim)\n",
    "        self.fc2 = nn.Linear(a_hidden_dim, b_hidden_dim)\n",
    "        \n",
    "        # Final fully-connected layer\n",
    "        self.fc3 = nn.Linear(b_hidden_dim, output_size)\n",
    "        \n",
    "        # Dropout layer \n",
    "        self.dropout = nn.Dropout(0.3)\n",
    "                \n",
    "    def forward(self, x):\n",
    "        x = self.flatten(x)\n",
    "        x = F.relu(self.fc1(x))\n",
    "        x = self.dropout(x)  # Apply dropout to the hidden layer\n",
    "        x = F.relu(self.fc2(x))\n",
    "        x = self.dropout(x)\n",
    "        x = self.fc3(x)\n",
    "        return x"
   ]
  },
  {
   "cell_type": "code",
   "execution_count": 8,
   "metadata": {},
   "outputs": [],
   "source": [
    "input_size = 28 * 28\n",
    "a_hidden_dim = 340\n",
    "b_hidden_dim = 128\n",
    "output_size = 10\n",
    "model = SimpleNN(input_size, a_hidden_dim, b_hidden_dim, output_size)"
   ]
  },
  {
   "cell_type": "code",
   "execution_count": 9,
   "metadata": {},
   "outputs": [
    {
     "data": {
      "text/plain": [
       "SimpleNN(\n",
       "  (flatten): Flatten(start_dim=1, end_dim=-1)\n",
       "  (fc1): Linear(in_features=784, out_features=340, bias=True)\n",
       "  (fc2): Linear(in_features=340, out_features=128, bias=True)\n",
       "  (fc3): Linear(in_features=128, out_features=10, bias=True)\n",
       "  (dropout): Dropout(p=0.3, inplace=False)\n",
       ")"
      ]
     },
     "execution_count": 9,
     "metadata": {},
     "output_type": "execute_result"
    }
   ],
   "source": [
    "model"
   ]
  },
  {
   "cell_type": "markdown",
   "metadata": {},
   "source": [
    "Specify a loss function and an optimizer, and instantiate the model.\n",
    "\n",
    "If you use a less common loss function, please note why you chose that loss function in a comment."
   ]
  },
  {
   "cell_type": "code",
   "execution_count": 10,
   "metadata": {},
   "outputs": [
    {
     "data": {
      "text/plain": [
       "SimpleNN(\n",
       "  (flatten): Flatten(start_dim=1, end_dim=-1)\n",
       "  (fc1): Linear(in_features=784, out_features=340, bias=True)\n",
       "  (fc2): Linear(in_features=340, out_features=128, bias=True)\n",
       "  (fc3): Linear(in_features=128, out_features=10, bias=True)\n",
       "  (dropout): Dropout(p=0.3, inplace=False)\n",
       ")"
      ]
     },
     "execution_count": 10,
     "metadata": {},
     "output_type": "execute_result"
    }
   ],
   "source": [
    "import torch.optim as optim\n",
    "\n",
    "learning_rate = 0.02\n",
    "criterion = nn.CrossEntropyLoss()  # For classification tasks\n",
    "optimizer = optim.SGD(model.parameters(), lr=learning_rate)\n",
    "num_epochs = 50\n",
    "device = torch.device(\"cuda\" if torch.cuda.is_available() else \"cpu\")\n",
    "model.to(device)"
   ]
  },
  {
   "cell_type": "markdown",
   "metadata": {},
   "source": [
    "## Running your Neural Network\n",
    "Use whatever method you like to train your neural network, and ensure you record the average loss at each epoch. \n",
    "Don't forget to use `torch.device()` and the `.to()` method for both your model and your data if you are using GPU!\n",
    "\n",
    "If you want to print your loss **during** each epoch, you can use the `enumerate` function and print the loss after a set number of batches. 250 batches works well for most people!"
   ]
  },
  {
   "cell_type": "code",
   "execution_count": 11,
   "metadata": {},
   "outputs": [
    {
     "name": "stdout",
     "output_type": "stream",
     "text": [
      "Epoch [1/50] - Batch [250/750] - Loss: 0.6672\n",
      "Epoch [1/50] - Batch [500/750] - Loss: 0.6100\n",
      "Epoch [1/50] - Batch [750/750] - Loss: 0.6459\n",
      "Epoch [1/50] - Train Loss: 0.9212\n",
      "Epoch [1/50] - Valid Loss: 0.3915\n",
      "Epoch [2/50] - Batch [250/750] - Loss: 0.5016\n",
      "Epoch [2/50] - Batch [500/750] - Loss: 0.2126\n",
      "Epoch [2/50] - Batch [750/750] - Loss: 0.3870\n",
      "Epoch [2/50] - Train Loss: 0.4104\n",
      "Epoch [2/50] - Valid Loss: 0.3015\n",
      "Epoch [3/50] - Batch [250/750] - Loss: 0.2263\n",
      "Epoch [3/50] - Batch [500/750] - Loss: 0.4209\n",
      "Epoch [3/50] - Batch [750/750] - Loss: 0.2686\n",
      "Epoch [3/50] - Train Loss: 0.3311\n",
      "Epoch [3/50] - Valid Loss: 0.2457\n",
      "Epoch [4/50] - Batch [250/750] - Loss: 0.2220\n",
      "Epoch [4/50] - Batch [500/750] - Loss: 0.1771\n",
      "Epoch [4/50] - Batch [750/750] - Loss: 0.2285\n",
      "Epoch [4/50] - Train Loss: 0.2825\n",
      "Epoch [4/50] - Valid Loss: 0.2123\n",
      "Epoch [5/50] - Batch [250/750] - Loss: 0.2797\n",
      "Epoch [5/50] - Batch [500/750] - Loss: 0.1918\n",
      "Epoch [5/50] - Batch [750/750] - Loss: 0.1714\n",
      "Epoch [5/50] - Train Loss: 0.2449\n",
      "Epoch [5/50] - Valid Loss: 0.1859\n",
      "Epoch [6/50] - Batch [250/750] - Loss: 0.2434\n",
      "Epoch [6/50] - Batch [500/750] - Loss: 0.1540\n",
      "Epoch [6/50] - Batch [750/750] - Loss: 0.0590\n",
      "Epoch [6/50] - Train Loss: 0.2169\n",
      "Epoch [6/50] - Valid Loss: 0.1706\n",
      "Epoch [7/50] - Batch [250/750] - Loss: 0.0780\n",
      "Epoch [7/50] - Batch [500/750] - Loss: 0.1928\n",
      "Epoch [7/50] - Batch [750/750] - Loss: 0.0852\n",
      "Epoch [7/50] - Train Loss: 0.1968\n",
      "Epoch [7/50] - Valid Loss: 0.1593\n",
      "Epoch [8/50] - Batch [250/750] - Loss: 0.3106\n",
      "Epoch [8/50] - Batch [500/750] - Loss: 0.4554\n",
      "Epoch [8/50] - Batch [750/750] - Loss: 0.1569\n",
      "Epoch [8/50] - Train Loss: 0.1813\n",
      "Epoch [8/50] - Valid Loss: 0.1378\n",
      "Epoch [9/50] - Batch [250/750] - Loss: 0.3496\n",
      "Epoch [9/50] - Batch [500/750] - Loss: 0.1630\n",
      "Epoch [9/50] - Batch [750/750] - Loss: 0.1847\n",
      "Epoch [9/50] - Train Loss: 0.1667\n",
      "Epoch [9/50] - Valid Loss: 0.1293\n",
      "Epoch [10/50] - Batch [250/750] - Loss: 0.1257\n",
      "Epoch [10/50] - Batch [500/750] - Loss: 0.3534\n",
      "Epoch [10/50] - Batch [750/750] - Loss: 0.4444\n",
      "Epoch [10/50] - Train Loss: 0.1542\n",
      "Epoch [10/50] - Valid Loss: 0.1348\n",
      "Epoch [11/50] - Batch [250/750] - Loss: 0.1309\n",
      "Epoch [11/50] - Batch [500/750] - Loss: 0.1549\n",
      "Epoch [11/50] - Batch [750/750] - Loss: 0.1940\n",
      "Epoch [11/50] - Train Loss: 0.1453\n",
      "Epoch [11/50] - Valid Loss: 0.1141\n",
      "Epoch [12/50] - Batch [250/750] - Loss: 0.1848\n",
      "Epoch [12/50] - Batch [500/750] - Loss: 0.1867\n",
      "Epoch [12/50] - Batch [750/750] - Loss: 0.0979\n",
      "Epoch [12/50] - Train Loss: 0.1366\n",
      "Epoch [12/50] - Valid Loss: 0.1101\n",
      "Epoch [13/50] - Batch [250/750] - Loss: 0.1076\n",
      "Epoch [13/50] - Batch [500/750] - Loss: 0.1052\n",
      "Epoch [13/50] - Batch [750/750] - Loss: 0.2688\n",
      "Epoch [13/50] - Train Loss: 0.1270\n",
      "Epoch [13/50] - Valid Loss: 0.1046\n",
      "Epoch [14/50] - Batch [250/750] - Loss: 0.0541\n",
      "Epoch [14/50] - Batch [500/750] - Loss: 0.1498\n",
      "Epoch [14/50] - Batch [750/750] - Loss: 0.1682\n",
      "Epoch [14/50] - Train Loss: 0.1209\n",
      "Epoch [14/50] - Valid Loss: 0.1025\n",
      "Epoch [15/50] - Batch [250/750] - Loss: 0.2516\n",
      "Epoch [15/50] - Batch [500/750] - Loss: 0.1475\n",
      "Epoch [15/50] - Batch [750/750] - Loss: 0.0999\n",
      "Epoch [15/50] - Train Loss: 0.1162\n",
      "Epoch [15/50] - Valid Loss: 0.0938\n",
      "Epoch [16/50] - Batch [250/750] - Loss: 0.0792\n",
      "Epoch [16/50] - Batch [500/750] - Loss: 0.1883\n",
      "Epoch [16/50] - Batch [750/750] - Loss: 0.1331\n",
      "Epoch [16/50] - Train Loss: 0.1122\n",
      "Epoch [16/50] - Valid Loss: 0.0910\n",
      "Epoch [17/50] - Batch [250/750] - Loss: 0.1032\n",
      "Epoch [17/50] - Batch [500/750] - Loss: 0.1137\n",
      "Epoch [17/50] - Batch [750/750] - Loss: 0.0778\n",
      "Epoch [17/50] - Train Loss: 0.1071\n",
      "Epoch [17/50] - Valid Loss: 0.0912\n",
      "Epoch [18/50] - Batch [250/750] - Loss: 0.1604\n",
      "Epoch [18/50] - Batch [500/750] - Loss: 0.1276\n",
      "Epoch [18/50] - Batch [750/750] - Loss: 0.0254\n",
      "Epoch [18/50] - Train Loss: 0.1002\n",
      "Epoch [18/50] - Valid Loss: 0.0875\n",
      "Epoch [19/50] - Batch [250/750] - Loss: 0.1421\n",
      "Epoch [19/50] - Batch [500/750] - Loss: 0.0749\n",
      "Epoch [19/50] - Batch [750/750] - Loss: 0.1148\n",
      "Epoch [19/50] - Train Loss: 0.0982\n",
      "Epoch [19/50] - Valid Loss: 0.0881\n",
      "Epoch [20/50] - Batch [250/750] - Loss: 0.1286\n",
      "Epoch [20/50] - Batch [500/750] - Loss: 0.0386\n",
      "Epoch [20/50] - Batch [750/750] - Loss: 0.0954\n",
      "Epoch [20/50] - Train Loss: 0.0947\n",
      "Epoch [20/50] - Valid Loss: 0.0854\n",
      "Epoch [21/50] - Batch [250/750] - Loss: 0.1318\n",
      "Epoch [21/50] - Batch [500/750] - Loss: 0.1699\n",
      "Epoch [21/50] - Batch [750/750] - Loss: 0.0784\n",
      "Epoch [21/50] - Train Loss: 0.0899\n",
      "Epoch [21/50] - Valid Loss: 0.0839\n",
      "Epoch [22/50] - Batch [250/750] - Loss: 0.0870\n",
      "Epoch [22/50] - Batch [500/750] - Loss: 0.0441\n",
      "Epoch [22/50] - Batch [750/750] - Loss: 0.0801\n",
      "Epoch [22/50] - Train Loss: 0.0846\n",
      "Epoch [22/50] - Valid Loss: 0.0826\n",
      "Epoch [23/50] - Batch [250/750] - Loss: 0.0991\n",
      "Epoch [23/50] - Batch [500/750] - Loss: 0.1594\n",
      "Epoch [23/50] - Batch [750/750] - Loss: 0.0181\n",
      "Epoch [23/50] - Train Loss: 0.0824\n",
      "Epoch [23/50] - Valid Loss: 0.0780\n",
      "Epoch [24/50] - Batch [250/750] - Loss: 0.0518\n",
      "Epoch [24/50] - Batch [500/750] - Loss: 0.1131\n",
      "Epoch [24/50] - Batch [750/750] - Loss: 0.0234\n",
      "Epoch [24/50] - Train Loss: 0.0814\n",
      "Epoch [24/50] - Valid Loss: 0.0779\n",
      "Epoch [25/50] - Batch [250/750] - Loss: 0.1340\n",
      "Epoch [25/50] - Batch [500/750] - Loss: 0.1721\n",
      "Epoch [25/50] - Batch [750/750] - Loss: 0.0326\n",
      "Epoch [25/50] - Train Loss: 0.0795\n",
      "Epoch [25/50] - Valid Loss: 0.0802\n",
      "Epoch [26/50] - Batch [250/750] - Loss: 0.1068\n",
      "Epoch [26/50] - Batch [500/750] - Loss: 0.0726\n",
      "Epoch [26/50] - Batch [750/750] - Loss: 0.0124\n",
      "Epoch [26/50] - Train Loss: 0.0744\n",
      "Epoch [26/50] - Valid Loss: 0.0761\n",
      "Epoch [27/50] - Batch [250/750] - Loss: 0.0587\n",
      "Epoch [27/50] - Batch [500/750] - Loss: 0.1187\n",
      "Epoch [27/50] - Batch [750/750] - Loss: 0.0478\n",
      "Epoch [27/50] - Train Loss: 0.0737\n",
      "Epoch [27/50] - Valid Loss: 0.0721\n",
      "Epoch [28/50] - Batch [250/750] - Loss: 0.0922\n",
      "Epoch [28/50] - Batch [500/750] - Loss: 0.0897\n",
      "Epoch [28/50] - Batch [750/750] - Loss: 0.0298\n",
      "Epoch [28/50] - Train Loss: 0.0720\n",
      "Epoch [28/50] - Valid Loss: 0.0723\n",
      "Epoch [29/50] - Batch [250/750] - Loss: 0.0357\n",
      "Epoch [29/50] - Batch [500/750] - Loss: 0.0639\n",
      "Epoch [29/50] - Batch [750/750] - Loss: 0.0256\n",
      "Epoch [29/50] - Train Loss: 0.0680\n",
      "Epoch [29/50] - Valid Loss: 0.0745\n",
      "Epoch [30/50] - Batch [250/750] - Loss: 0.0149\n",
      "Epoch [30/50] - Batch [500/750] - Loss: 0.1036\n",
      "Epoch [30/50] - Batch [750/750] - Loss: 0.0745\n",
      "Epoch [30/50] - Train Loss: 0.0651\n",
      "Epoch [30/50] - Valid Loss: 0.0721\n",
      "Epoch [31/50] - Batch [250/750] - Loss: 0.0781\n",
      "Epoch [31/50] - Batch [500/750] - Loss: 0.0409\n",
      "Epoch [31/50] - Batch [750/750] - Loss: 0.0536\n",
      "Epoch [31/50] - Train Loss: 0.0653\n",
      "Epoch [31/50] - Valid Loss: 0.0710\n",
      "Epoch [32/50] - Batch [250/750] - Loss: 0.0648\n",
      "Epoch [32/50] - Batch [500/750] - Loss: 0.0649\n",
      "Epoch [32/50] - Batch [750/750] - Loss: 0.0809\n",
      "Epoch [32/50] - Train Loss: 0.0630\n",
      "Epoch [32/50] - Valid Loss: 0.0732\n",
      "Epoch [33/50] - Batch [250/750] - Loss: 0.0422\n",
      "Epoch [33/50] - Batch [500/750] - Loss: 0.0364\n",
      "Epoch [33/50] - Batch [750/750] - Loss: 0.0464\n",
      "Epoch [33/50] - Train Loss: 0.0611\n",
      "Epoch [33/50] - Valid Loss: 0.0702\n",
      "Epoch [34/50] - Batch [250/750] - Loss: 0.0930\n",
      "Epoch [34/50] - Batch [500/750] - Loss: 0.0841\n",
      "Epoch [34/50] - Batch [750/750] - Loss: 0.0374\n",
      "Epoch [34/50] - Train Loss: 0.0601\n",
      "Epoch [34/50] - Valid Loss: 0.0692\n",
      "Epoch [35/50] - Batch [250/750] - Loss: 0.1409\n",
      "Epoch [35/50] - Batch [500/750] - Loss: 0.0754\n",
      "Epoch [35/50] - Batch [750/750] - Loss: 0.0217\n",
      "Epoch [35/50] - Train Loss: 0.0595\n",
      "Epoch [35/50] - Valid Loss: 0.0699\n",
      "Epoch [36/50] - Batch [250/750] - Loss: 0.0587\n",
      "Epoch [36/50] - Batch [500/750] - Loss: 0.0959\n",
      "Epoch [36/50] - Batch [750/750] - Loss: 0.0089\n",
      "Epoch [36/50] - Train Loss: 0.0574\n",
      "Epoch [36/50] - Valid Loss: 0.0715\n",
      "Epoch [37/50] - Batch [250/750] - Loss: 0.2977\n",
      "Epoch [37/50] - Batch [500/750] - Loss: 0.0928\n",
      "Epoch [37/50] - Batch [750/750] - Loss: 0.0663\n",
      "Epoch [37/50] - Train Loss: 0.0567\n",
      "Epoch [37/50] - Valid Loss: 0.0657\n",
      "Epoch [38/50] - Batch [250/750] - Loss: 0.0555\n",
      "Epoch [38/50] - Batch [500/750] - Loss: 0.0277\n",
      "Epoch [38/50] - Batch [750/750] - Loss: 0.0105\n",
      "Epoch [38/50] - Train Loss: 0.0528\n",
      "Epoch [38/50] - Valid Loss: 0.0648\n",
      "Epoch [39/50] - Batch [250/750] - Loss: 0.0789\n",
      "Epoch [39/50] - Batch [500/750] - Loss: 0.0801\n",
      "Epoch [39/50] - Batch [750/750] - Loss: 0.0157\n",
      "Epoch [39/50] - Train Loss: 0.0526\n",
      "Epoch [39/50] - Valid Loss: 0.0679\n",
      "Epoch [40/50] - Batch [250/750] - Loss: 0.0259\n"
     ]
    },
    {
     "name": "stdout",
     "output_type": "stream",
     "text": [
      "Epoch [40/50] - Batch [500/750] - Loss: 0.0721\n",
      "Epoch [40/50] - Batch [750/750] - Loss: 0.0066\n",
      "Epoch [40/50] - Train Loss: 0.0529\n",
      "Epoch [40/50] - Valid Loss: 0.0638\n",
      "Epoch [41/50] - Batch [250/750] - Loss: 0.0636\n",
      "Epoch [41/50] - Batch [500/750] - Loss: 0.0095\n",
      "Epoch [41/50] - Batch [750/750] - Loss: 0.0400\n",
      "Epoch [41/50] - Train Loss: 0.0496\n",
      "Epoch [41/50] - Valid Loss: 0.0660\n",
      "Epoch [42/50] - Batch [250/750] - Loss: 0.0344\n",
      "Epoch [42/50] - Batch [500/750] - Loss: 0.0148\n",
      "Epoch [42/50] - Batch [750/750] - Loss: 0.0137\n",
      "Epoch [42/50] - Train Loss: 0.0477\n",
      "Epoch [42/50] - Valid Loss: 0.0640\n",
      "Epoch [43/50] - Batch [250/750] - Loss: 0.0628\n",
      "Epoch [43/50] - Batch [500/750] - Loss: 0.0680\n",
      "Epoch [43/50] - Batch [750/750] - Loss: 0.0239\n",
      "Epoch [43/50] - Train Loss: 0.0484\n",
      "Epoch [43/50] - Valid Loss: 0.0649\n",
      "Epoch [44/50] - Batch [250/750] - Loss: 0.0122\n",
      "Epoch [44/50] - Batch [500/750] - Loss: 0.0666\n",
      "Epoch [44/50] - Batch [750/750] - Loss: 0.0578\n",
      "Epoch [44/50] - Train Loss: 0.0472\n",
      "Epoch [44/50] - Valid Loss: 0.0634\n",
      "Epoch [45/50] - Batch [250/750] - Loss: 0.0235\n",
      "Epoch [45/50] - Batch [500/750] - Loss: 0.0261\n",
      "Epoch [45/50] - Batch [750/750] - Loss: 0.0205\n",
      "Epoch [45/50] - Train Loss: 0.0441\n",
      "Epoch [45/50] - Valid Loss: 0.0678\n",
      "Epoch [46/50] - Batch [250/750] - Loss: 0.0086\n",
      "Epoch [46/50] - Batch [500/750] - Loss: 0.0972\n",
      "Epoch [46/50] - Batch [750/750] - Loss: 0.0724\n",
      "Epoch [46/50] - Train Loss: 0.0444\n",
      "Epoch [46/50] - Valid Loss: 0.0678\n",
      "Epoch [47/50] - Batch [250/750] - Loss: 0.0716\n",
      "Epoch [47/50] - Batch [500/750] - Loss: 0.1373\n",
      "Epoch [47/50] - Batch [750/750] - Loss: 0.0500\n",
      "Epoch [47/50] - Train Loss: 0.0435\n",
      "Epoch [47/50] - Valid Loss: 0.0660\n",
      "Epoch [48/50] - Batch [250/750] - Loss: 0.1058\n",
      "Epoch [48/50] - Batch [500/750] - Loss: 0.0273\n",
      "Epoch [48/50] - Batch [750/750] - Loss: 0.0033\n",
      "Epoch [48/50] - Train Loss: 0.0421\n",
      "Epoch [48/50] - Valid Loss: 0.0663\n",
      "Epoch [49/50] - Batch [250/750] - Loss: 0.0701\n",
      "Epoch [49/50] - Batch [500/750] - Loss: 0.0335\n",
      "Epoch [49/50] - Batch [750/750] - Loss: 0.0661\n",
      "Epoch [49/50] - Train Loss: 0.0424\n",
      "Epoch [49/50] - Valid Loss: 0.0657\n",
      "Epoch [50/50] - Batch [250/750] - Loss: 0.0444\n",
      "Epoch [50/50] - Batch [500/750] - Loss: 0.0092\n",
      "Epoch [50/50] - Batch [750/750] - Loss: 0.0517\n",
      "Epoch [50/50] - Train Loss: 0.0409\n",
      "Epoch [50/50] - Valid Loss: 0.0651\n"
     ]
    }
   ],
   "source": [
    "# Lists to store training and validation losses\n",
    "train_losses = []\n",
    "valid_losses = []\n",
    "\n",
    "# Training loop\n",
    "for epoch in range(num_epochs):\n",
    "    model.train()  # Set the model to training mode\n",
    "    train_loss = 0.0\n",
    "    \n",
    "    for batch_idx, (inputs, labels) in enumerate(trainloader):\n",
    "        inputs, labels = inputs.to(device), labels.to(device)  # Move data to GPU if available\n",
    "        \n",
    "        optimizer.zero_grad()\n",
    "        outputs = model(inputs)\n",
    "        loss = criterion(outputs, labels)\n",
    "        loss.backward()\n",
    "        optimizer.step()\n",
    "        \n",
    "        train_loss += loss.item()\n",
    "        \n",
    "        # Print loss after a set number of batches\n",
    "        if batch_idx % 250 == 249:\n",
    "            print(f\"Epoch [{epoch+1}/{num_epochs}] - Batch [{batch_idx+1}/{len(trainloader)}] - Loss: {loss.item():.4f}\")\n",
    "\n",
    "    train_loss /= len(trainloader)\n",
    "    train_losses.append(train_loss)\n",
    "    print(f\"Epoch [{epoch+1}/{num_epochs}] - Train Loss: {train_loss:.4f}\")\n",
    "    \n",
    "    # Validation loop\n",
    "    model.eval()  # Set the model to evaluation mode\n",
    "    valid_loss = 0.0\n",
    "    \n",
    "    with torch.no_grad():\n",
    "        for inputs, labels in validloader:\n",
    "            inputs, labels = inputs.to(device), labels.to(device)\n",
    "            outputs = model(inputs)\n",
    "            loss = criterion(outputs, labels)\n",
    "            valid_loss += loss.item()\n",
    "    \n",
    "    valid_loss /= len(validloader)\n",
    "    valid_losses.append(valid_loss)\n",
    "\n",
    "    print(f\"Epoch [{epoch+1}/{num_epochs}] - Valid Loss: {valid_loss:.4f}\")"
   ]
  },
  {
   "cell_type": "markdown",
   "metadata": {},
   "source": [
    "# Lists to store training and validation losses\n",
    "train_losses = []\n",
    "valid_losses = []\n",
    "\n",
    "# Training loop\n",
    "for epoch in range(num_epochs):\n",
    "    model.train()  # Set the model to training mode\n",
    "    train_loss = 0.0\n",
    "    \n",
    "    for inputs, labels in trainloader:\n",
    "        optimizer.zero_grad()\n",
    "        outputs = model(inputs)\n",
    "        loss = criterion(outputs, labels)\n",
    "        loss.backward()\n",
    "        optimizer.step()\n",
    "        train_loss += loss.item()\n",
    "        \n",
    "    train_loss /= len(trainloader)\n",
    "    train_losses.append(train_loss)\n",
    "\n",
    "    # Validation loop\n",
    "    model.eval()  # Set the model to evaluation mode\n",
    "    valid_loss = 0.0\n",
    "    \n",
    "    with torch.no_grad():\n",
    "        for inputs, labels in validloader:\n",
    "            outputs = model(inputs)\n",
    "            loss = criterion(outputs, labels)\n",
    "            valid_loss += loss.item()\n",
    "    \n",
    "    valid_loss /= len(validloader)\n",
    "    valid_losses.append(valid_loss)\n",
    "    \n",
    "    print(f\"Epoch [{epoch+1}/{num_epochs}] - Train Loss: {train_loss:.4f} - Valid Loss: {valid_loss:.4f}\")"
   ]
  },
  {
   "cell_type": "markdown",
   "metadata": {},
   "source": [
    "Plot the training loss (and validation loss/accuracy, if recorded)."
   ]
  },
  {
   "cell_type": "code",
   "execution_count": 12,
   "metadata": {},
   "outputs": [
    {
     "data": {
      "image/png": "[encoded data removed]",
      "text/plain": [
       "<Figure size 432x288 with 1 Axes>"
      ]
     },
     "metadata": {
      "image/png": {
       "height": 277,
       "width": 385
      },
      "needs_background": "light"
     },
     "output_type": "display_data"
    }
   ],
   "source": [
    "# Plot the loss curves\n",
    "plt.plot(train_losses, label='Train Loss')\n",
    "plt.plot(valid_losses, label='Validation Loss')\n",
    "plt.xlabel('Epoch')\n",
    "plt.ylabel('Loss')\n",
    "plt.title('Training and Validation Loss')\n",
    "plt.legend()\n",
    "plt.show()"
   ]
  },
  {
   "cell_type": "markdown",
   "metadata": {},
   "source": [
    "## Testing your model\n",
    "Using the previously created `DataLoader` for the test set, compute the percentage of correct predictions using the highest probability prediction. \n",
    "\n",
    "If your accuracy is over 90%, great work, but see if you can push a bit further! \n",
    "If your accuracy is under 90%, you'll need to make improvements.\n",
    "Go back and check your model architecture, loss function, and optimizer to make sure they're appropriate for an image classification task."
   ]
  },
  {
   "cell_type": "code",
   "execution_count": 13,
   "metadata": {},
   "outputs": [
    {
     "name": "stdout",
     "output_type": "stream",
     "text": [
      "Test Accuracy: 0.9804\n"
     ]
    }
   ],
   "source": [
    "model.eval()  # Switch to evaluation mode\n",
    "with torch.no_grad():\n",
    "    total_correct = 0\n",
    "    total_samples = 0\n",
    "    for inputs, labels in testloader:\n",
    "        inputs, labels = inputs.to(device), labels.to(device)  # Move data to the same device as the model\n",
    "        outputs = model(inputs)\n",
    "        _, predicted = torch.max(outputs, 1)\n",
    "        total_samples += labels.size(0)\n",
    "        total_correct += (predicted == labels).sum().item()\n",
    "\n",
    "    accuracy = total_correct / total_samples\n",
    "    print(f\"Test Accuracy: {accuracy:.4f}\")"
   ]
  },
  {
   "cell_type": "markdown",
   "metadata": {},
   "source": [
    "## Improving your model\n",
    "\n",
    "Once your model is done training, try tweaking your hyperparameters and training again below to improve your accuracy on the test set!"
   ]
  },
  {
   "cell_type": "code",
   "execution_count": 14,
   "metadata": {},
   "outputs": [],
   "source": [
    "## YOUR CODE HERE ##"
   ]
  },
  {
   "cell_type": "markdown",
   "metadata": {},
   "source": [
    "## Saving your model\n",
    "Using `torch.save`, save your model for future loading."
   ]
  },
  {
   "cell_type": "code",
   "execution_count": 15,
   "metadata": {},
   "outputs": [
    {
     "name": "stdout",
     "output_type": "stream",
     "text": [
      "Model saved!\n"
     ]
    }
   ],
   "source": [
    "# Save the trained model\n",
    "torch.save(model.state_dict(), 'simple_nn_model.pth')\n",
    "print(\"Model saved!\")"
   ]
  },
  {
   "cell_type": "code",
   "execution_count": 16,
   "metadata": {},
   "outputs": [
    {
     "name": "stdout",
     "output_type": "stream",
     "text": [
      "Model loaded!\n"
     ]
    }
   ],
   "source": [
    "# Later, to load the saved model\n",
    "model = SimpleNN(input_size, a_hidden_dim, b_hidden_dim, output_size)  # Create an instance of the model\n",
    "model.load_state_dict(torch.load('simple_nn_model.pth'))\n",
    "model.eval()  # Set the model to evaluation mode\n",
    "print(\"Model loaded!\")"
   ]
  },
  {
   "cell_type": "code",
   "execution_count": null,
   "metadata": {},
   "outputs": [],
   "source": []
  }
 ],
 "metadata": {
  "kernelspec": {
   "display_name": "Python 3",
   "language": "python",
   "name": "python3"
  },
  "language_info": {
   "codemirror_mode": {
    "name": "ipython",
    "version": 3
   },
   "file_extension": ".py",
   "mimetype": "text/x-python",
   "name": "python",
   "nbconvert_exporter": "python",
   "pygments_lexer": "ipython3",
   "version": "3.7.6"
  }
 },
 "nbformat": 4,
 "nbformat_minor": 4
}
